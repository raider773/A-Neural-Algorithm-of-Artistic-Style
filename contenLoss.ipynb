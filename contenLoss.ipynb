{
 "cells": [
  {
   "cell_type": "code",
   "execution_count": null,
   "id": "9fc497b7-e072-4f9a-842e-8235bd645fd6",
   "metadata": {},
   "outputs": [],
   "source": [
    "import numpy as np\n",
    "import tensorflow as tf\n",
    "from tensorflow import keras\n",
    "from tensorflow.keras.applications import vgg19\n",
    "import cv2\n",
    "import matplotlib.pyplot as plt\n",
    "from tensorflow.keras.models import Model"
   ]
  },
  {
   "cell_type": "code",
   "execution_count": null,
   "id": "6f04e7bd-2d3b-45b8-b1f2-84e2fadc92b0",
   "metadata": {},
   "outputs": [],
   "source": [
    "image = cv2.imread('base_image.jpg')\n",
    "image = cv2.cvtColor(image, cv2.COLOR_BGR2RGB)\n",
    "image = cv2.resize(image,(600, 200))"
   ]
  },
  {
   "cell_type": "code",
   "execution_count": null,
   "id": "55cf3595-69dd-4e59-afa9-86eb81a4bfe6",
   "metadata": {},
   "outputs": [],
   "source": [
    "img_to_tensor = tf.convert_to_tensor(image, dtype=tf.float32)"
   ]
  },
  {
   "cell_type": "code",
   "execution_count": null,
   "id": "e8308365-84d0-4935-b7a5-42adfd360a48",
   "metadata": {},
   "outputs": [],
   "source": [
    "processed_image = tf.keras.applications.vgg16.preprocess_input(img_to_tensor)"
   ]
  },
  {
   "cell_type": "code",
   "execution_count": null,
   "id": "06ce3aec-cbdd-4502-bba9-96b2b52c1b33",
   "metadata": {},
   "outputs": [],
   "source": [
    "pre_trained_model = vgg19.VGG19(weights=\"imagenet\", include_top=False)"
   ]
  },
  {
   "cell_type": "code",
   "execution_count": null,
   "id": "5c516f41-4506-423d-af83-7d53ee757c9c",
   "metadata": {},
   "outputs": [],
   "source": [
    "for layer in pre_trained_model.layers:\n",
    "    print(layer.name)"
   ]
  },
  {
   "cell_type": "code",
   "execution_count": null,
   "id": "34ba41a0-c66b-4aed-91bc-a11c0f09d9e9",
   "metadata": {},
   "outputs": [],
   "source": [
    "content_layer = \"block5_conv1\"\n",
    "content_model_output = Model(inputs = pre_trained_model.inputs, outputs = pre_trained_model.get_layer(content_layer).output)"
   ]
  },
  {
   "cell_type": "code",
   "execution_count": null,
   "id": "741b2a26-879a-411a-8a53-8b0a1e8d020b",
   "metadata": {},
   "outputs": [],
   "source": [
    "content_model_output.summary()"
   ]
  },
  {
   "cell_type": "code",
   "execution_count": null,
   "id": "df5da9bd-f431-4dab-9708-b2e83c875748",
   "metadata": {},
   "outputs": [],
   "source": [
    "class content_model(tf.keras.Model):       \n",
    "    def __init__(self,content_model,shape):\n",
    "        super().__init__()     \n",
    "        self.pre_trained_model = content_model\n",
    "        self.white_image = tf.Variable(tf.ones(shape = shape))\n",
    "        self.gradients = []\n",
    "    \n",
    "    def compile(self, optimizer):\n",
    "        super().compile()\n",
    "        self.optimizer = optimizer\n",
    "    \n",
    "    def contenidopapurri(self,image):    \n",
    "        base_pred = self.pre_trained_model(image)     \n",
    "        white_pred = self.pre_trained_model(self.white_image)         \n",
    "        return tf.reduce_sum(tf.square(white_pred - base_pred))\n",
    "        \n",
    "    def train_step(self, data):            \n",
    "        with tf.GradientTape() as tape:\n",
    "            tape.watch(self.white_image)  \n",
    "            content_loss = self.contenidopapurri(data)     \n",
    "        grads = tape.gradient(content_loss, [self.white_image])[0]       \n",
    "        self.optimizer.apply_gradients([(grads, self.white_image)])   \n",
    "        self.gradients.append(grads)\n",
    "        return {\"loss\": content_loss}"
   ]
  },
  {
   "cell_type": "code",
   "execution_count": null,
   "id": "0b093a4e-fa3e-479e-9281-5f69e50de8f0",
   "metadata": {},
   "outputs": [],
   "source": [
    "model = content_model(content_model_output,shape = (1,200,600,3))"
   ]
  },
  {
   "cell_type": "code",
   "execution_count": null,
   "id": "14afe058-e82a-4410-8337-d38bb5a1167d",
   "metadata": {},
   "outputs": [],
   "source": [
    "model.compile(optimizer = tf.keras.optimizers.SGD())"
   ]
  },
  {
   "cell_type": "code",
   "execution_count": null,
   "id": "fbcce880-6fb7-4e85-8045-ef7c5c49947f",
   "metadata": {},
   "outputs": [],
   "source": [
    "model.fit(x = np.expand_dims(processed_image,axis = 0),epochs = 50)"
   ]
  },
  {
   "cell_type": "code",
   "execution_count": null,
   "id": "12073798-5c61-41fd-a933-95d82980038d",
   "metadata": {},
   "outputs": [],
   "source": []
  }
 ],
 "metadata": {
  "kernelspec": {
   "display_name": "gpu",
   "language": "python",
   "name": "neural_style"
  },
  "language_info": {
   "codemirror_mode": {
    "name": "ipython",
    "version": 3
   },
   "file_extension": ".py",
   "mimetype": "text/x-python",
   "name": "python",
   "nbconvert_exporter": "python",
   "pygments_lexer": "ipython3",
   "version": "3.8.0"
  }
 },
 "nbformat": 4,
 "nbformat_minor": 5
}
